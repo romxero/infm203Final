{
 "cells": [
  {
   "cell_type": "markdown",
   "metadata": {},
   "source": [
    "# Final Practical Project \n",
    "## Created by Randall White\n",
    "### INFM 203 Spring 2020"
   ]
  },
  {
   "cell_type": "markdown",
   "metadata": {},
   "source": [
    "#### Initializing right here\n",
    "This portion is where we include all of the libraries/modules before computations.\n",
    "This uses NLTK, Requests, Matplotlub, and WordCloud\n"
   ]
  },
  {
   "cell_type": "code",
   "execution_count": 2,
   "metadata": {},
   "outputs": [],
   "source": [
    "#!/usr/bin/env python\n",
    "#\n",
    "# Final Created by Randall White\n",
    "#\n",
    "# Infm 203. Spring 2020 \n",
    "#\n",
    "#\n",
    "#\n",
    "#\n",
    "\n",
    "#importing the nltk stuff\n",
    "import nltk\n",
    "from nltk.corpus import stopwords\n",
    "from nltk.probability import FreqDist\n",
    "\n",
    "#importing matplotlib for the wordcloud stuff \n",
    "import matplotlib.pyplot as plt \n",
    "#using request to download the data \n",
    "import requests as rq\n",
    "\n",
    "#wordcloud stuff\n",
    "import wordcloud as wd\n",
    "from wordcloud import WordCloud\n"
   ]
  },
  {
   "cell_type": "markdown",
   "metadata": {},
   "source": [
    "#### Download stop word\n",
    "here we download the stop words and punctuations from the nltk server\n"
   ]
  },
  {
   "cell_type": "code",
   "execution_count": 3,
   "metadata": {},
   "outputs": [
    {
     "name": "stderr",
     "output_type": "stream",
     "text": [
      "[nltk_data] Downloading package stopwords to\n",
      "[nltk_data]     /home/romxero/nltk_data...\n",
      "[nltk_data]   Package stopwords is already up-to-date!\n",
      "[nltk_data] Downloading package punkt to /home/romxero/nltk_data...\n",
      "[nltk_data]   Package punkt is already up-to-date!\n"
     ]
    },
    {
     "data": {
      "text/plain": [
       "True"
      ]
     },
     "execution_count": 3,
     "metadata": {},
     "output_type": "execute_result"
    }
   ],
   "source": [
    "####Downloading the corpus data for nltk##########\n",
    "#download the nltk stop words\n",
    "nltk.download('stopwords')\n",
    "\n",
    "#download the punctuations\n",
    "nltk.download('punkt')\n"
   ]
  },
  {
   "cell_type": "markdown",
   "metadata": {},
   "source": [
    "#### Download Constitution\n",
    "We download it using the request module\n"
   ]
  },
  {
   "cell_type": "code",
   "execution_count": 5,
   "metadata": {},
   "outputs": [],
   "source": [
    "#grabbing the consitution of the united states \n",
    "recievedData = rq.get(\"https://www.constitution.org/cons/constitu.txt\")\n"
   ]
  },
  {
   "cell_type": "markdown",
   "metadata": {},
   "source": [
    "#### We change the corpus text to lower\n"
   ]
  },
  {
   "cell_type": "code",
   "execution_count": 7,
   "metadata": {},
   "outputs": [],
   "source": [
    "#setting the words to lower \n",
    "consitutionLoweredText = recievedData.text.lower()\n"
   ]
  },
  {
   "cell_type": "markdown",
   "metadata": {},
   "source": [
    "#### We create a variable for the stop words\n"
   ]
  },
  {
   "cell_type": "code",
   "execution_count": 8,
   "metadata": {},
   "outputs": [],
   "source": [
    "#setting the stop words as a variable\n",
    "stopWords = set(stopwords.words('english')) \n"
   ]
  },
  {
   "cell_type": "markdown",
   "metadata": {},
   "source": [
    "**IMPORTANT**\n",
    "### We tokenize the text corpus to words with NLTK\n"
   ]
  },
  {
   "cell_type": "code",
   "execution_count": 9,
   "metadata": {},
   "outputs": [],
   "source": [
    "#tokenizing the text \n",
    "constitutionTokensRaw = nltk.word_tokenize(consitutionLoweredText)\n"
   ]
  },
  {
   "cell_type": "markdown",
   "metadata": {},
   "source": [
    "#### Remove punctuations"
   ]
  },
  {
   "cell_type": "code",
   "execution_count": 10,
   "metadata": {},
   "outputs": [],
   "source": [
    "#removing the punctuations\n",
    "constitutionTokensRp = [w for w in constitutionTokensRaw if w.isalnum()]\n"
   ]
  },
  {
   "cell_type": "markdown",
   "metadata": {},
   "source": [
    "#### Remove the stop words "
   ]
  },
  {
   "cell_type": "code",
   "execution_count": 11,
   "metadata": {},
   "outputs": [],
   "source": [
    "#removing stop words from punctuation-removed tokens\n",
    "\n",
    "constitutionTokensRpRs = [w for w in constitutionTokensRp if not w in stopWords]\n"
   ]
  },
  {
   "cell_type": "markdown",
   "metadata": {},
   "source": [
    "### Now we create a frequency table of the words\n"
   ]
  },
  {
   "cell_type": "code",
   "execution_count": 12,
   "metadata": {},
   "outputs": [],
   "source": [
    "#create a distribution of the most common words \n",
    "constitutionDist = FreqDist(constitutionTokensRpRs)\n"
   ]
  },
  {
   "cell_type": "markdown",
   "metadata": {},
   "source": [
    "**NOW WE PRINT OUR REPORT OF THE TOP 20 WORDS**\n",
    "#### It iterates the list of the top 20 in the frequency table, and prints them out to the standard output"
   ]
  },
  {
   "cell_type": "code",
   "execution_count": 13,
   "metadata": {},
   "outputs": [
    {
     "name": "stdout",
     "output_type": "stream",
     "text": [
      "##############################\n",
      "##Most Frequent Word Report##\n",
      "##############################\n",
      "\n",
      "\n",
      " WORD | COUNT \n",
      " shall | 332 \n",
      " states | 146 \n",
      " president | 118 \n",
      " united | 96 \n",
      " state | 86 \n",
      " article | 75 \n",
      " congress | 75 \n",
      " section | 65 \n",
      " may | 44 \n",
      " constitution | 41 \n",
      " law | 41 \n",
      " office | 39 \n",
      " representatives | 36 \n",
      " person | 35 \n",
      " house | 33 \n",
      " one | 30 \n",
      " ratified | 30 \n",
      " senate | 29 \n",
      " vice | 29 \n",
      " number | 28 \n",
      "##############################\n",
      "\n",
      "\n"
     ]
    }
   ],
   "source": [
    "#print the most common words as a command line report\n",
    "\n",
    "print(\"##############################\")\n",
    "print(\"##Most Frequent Word Report##\") #header\n",
    "print(\"##############################\\n\\n\")\n",
    "print(\" WORD | COUNT \")\n",
    "for cTuples in constitutionDist.most_common(20):\n",
    "    print(\" \" + cTuples[0] + \" | \" + str(cTuples[1]) + \" \")\n",
    "\n",
    "print(\"##############################\\n\\n\")\n"
   ]
  },
  {
   "cell_type": "markdown",
   "metadata": {},
   "source": [
    "**NOW WE CREATE OUR PRETTY WORDCLOUD TO DISPLAY**\n",
    "#### We create a string object and append the words to it, then pass it to the wordcloud methods and then to matplotlib to display it all.\n"
   ]
  },
  {
   "cell_type": "code",
   "execution_count": 14,
   "metadata": {},
   "outputs": [
    {
     "name": "stdout",
     "output_type": "stream",
     "text": [
      "shall states president united state article congress section may constitution law office representatives person house one ratified senate vice number \n"
     ]
    },
    {
     "data": {
      "image/png": "[encoded data removed]",
      "text/plain": [
       "<Figure size 432x288 with 1 Axes>"
      ]
     },
     "metadata": {
      "needs_background": "light"
     },
     "output_type": "display_data"
    }
   ],
   "source": [
    "###word cloud computations\n",
    "wordCloudString = \"\" #establish string\n",
    "sep = \" \"\n",
    "\n",
    "for cTuples in constitutionDist.most_common(20):\n",
    "    wordCloudString += cTuples[0] + \" \"\n",
    "    #print(cTuples[0])\n",
    "\n",
    "print(wordCloudString)\n",
    "\n",
    "wcPlot = WordCloud(background_color=\"white\").generate(wordCloudString)\n",
    "\n",
    "plt.figure()\n",
    "plt.imshow(wcPlot, interpolation=\"bilinear\")\n",
    "plt.axis(\"off\")\n",
    "plt.show()"
   ]
  },
  {
   "cell_type": "markdown",
   "metadata": {},
   "source": [
    "**NOW WE ARE DONE! THANK YOU FOR A GREAT SEMESTER**\n"
   ]
  },
  {
   "cell_type": "code",
   "execution_count": null,
   "metadata": {},
   "outputs": [],
   "source": []
  }
 ],
 "metadata": {
  "kernelspec": {
   "display_name": "Python 3",
   "language": "python",
   "name": "python3"
  },
  "language_info": {
   "codemirror_mode": {
    "name": "ipython",
    "version": 3
   },
   "file_extension": ".py",
   "mimetype": "text/x-python",
   "name": "python",
   "nbconvert_exporter": "python",
   "pygments_lexer": "ipython3",
   "version": "3.6.9"
  }
 },
 "nbformat": 4,
 "nbformat_minor": 4
}
